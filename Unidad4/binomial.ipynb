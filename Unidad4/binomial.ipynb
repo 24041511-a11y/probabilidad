{
  "nbformat": 4,
  "nbformat_minor": 0,
  "metadata": {
    "colab": {
      "provenance": [],
      "authorship_tag": "ABX9TyPiUkTBcghbI5HZSY7chA+K",
      "include_colab_link": true
    },
    "kernelspec": {
      "name": "python3",
      "display_name": "Python 3"
    },
    "language_info": {
      "name": "python"
    }
  },
  "cells": [
    {
      "cell_type": "markdown",
      "metadata": {
        "id": "view-in-github",
        "colab_type": "text"
      },
      "source": [
        "<a href=\"https://colab.research.google.com/github/24041511-a11y/probabilidad/blob/main/Unidad4/binomial.ipynb\" target=\"_parent\"><img src=\"https://colab.research.google.com/assets/colab-badge.svg\" alt=\"Open In Colab\"/></a>"
      ]
    },
    {
      "cell_type": "code",
      "execution_count": null,
      "metadata": {
        "id": "eGmFjZGGyjXD"
      },
      "outputs": [],
      "source": [
        "from scipy.stats import binom, poisson\n",
        "\n",
        "n = 1000       # número de motores\n",
        "p = 0.001      # probabilidad de defecto\n",
        "lam = n * p    # media para aproximar con Poisson\n",
        "\n",
        "p0 = binom.pmf(0, n, p)\n",
        "p3 = binom.pmf(3, n, p)\n",
        "p4 = binom.pmf(4, n, p)\n",
        "\n",
        "po_p0 = poisson.pmf(0, lam)\n",
        "po_p3 = poisson.pmf(3, lam)\n",
        "po_p4 = poisson.pmf(4, lam)\n",
        "\n",
        "print(\"=== DISTRIBUCIÓN BINOMIAL ===\")\n",
        "print(\"Binomial exacta:\")\n",
        "print(f\"P(X=0) = {p0:.12f}\")\n",
        "print(f\"P(X=3) = {p3:.12f}\")\n",
        "print(f\"P(X=4) = {p4:.12f}\\n\")\n",
        "\n",
        "print(\"Aproximación Poisson (λ=1):\")\n",
        "print(f\"P(X=0) ≈ {po_p0:.12f}\")\n",
        "print(f\"P(X=3) ≈ {po_p3:.12f}\")\n",
        "print(f\"P(X=4) ≈ {po_p4:.12f}\")\n"
      ]
    }
  ]
}