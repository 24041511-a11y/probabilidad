{
  "cells": [
    {
      "cell_type": "markdown",
      "metadata": {
        "id": "view-in-github",
        "colab_type": "text"
      },
      "source": [
        "<a href=\"https://colab.research.google.com/github/24041511-a11y/probabilidad/blob/main/Unidad3/variables_aleatorias.ipynb\" target=\"_parent\"><img src=\"https://colab.research.google.com/assets/colab-badge.svg\" alt=\"Open In Colab\"/></a>"
      ]
    },
    {
      "cell_type": "code",
      "metadata": {
        "id": "FlH87YGPGVvU"
      },
      "source": [
        "import pandas as pd\n",
        "import numpy as np\n",
        "import matplotlib.pyplot as plt"
      ],
      "execution_count": null,
      "outputs": []
    },
    {
      "cell_type": "code",
      "metadata": {
        "id": "YCotAZE1GVvV"
      },
      "source": [
        "X = np.array([0, 1, 2, 3, 4, 5])\n",
        "P = np.array([0.10, 0.25, 0.30, 0.20, 0.10, 0.05])"
      ],
      "execution_count": null,
      "outputs": []
    },
    {
      "cell_type": "code",
      "metadata": {
        "id": "XVo4J3yDGVvV"
      },
      "source": [
        "print('Suma de probabilidades:', np.sum(P))\n",
        "if abs(np.sum(P) - 1) < 1e-6:\n",
        "    print('✔ Las probabilidades suman 1 (válido).')\n",
        "else:\n",
        "    print('❌ Error: las probabilidades no suman 1.')"
      ],
      "execution_count": null,
      "outputs": []
    },
    {
      "cell_type": "code",
      "metadata": {
        "id": "SKmYSuH6GVvW"
      },
      "source": [
        "df = pd.DataFrame({'X': X, 'P(X)': P})\n",
        "E = np.sum(X * P)\n",
        "Var = np.sum((X - E)**2 * P)\n",
        "Desv = np.sqrt(Var)\n",
        "df['F(X)'] = df['P(X)'].cumsum()\n",
        "print(df)\n",
        "print(f'Valor esperado E[X] = {E:.2f}')\n",
        "print(f'Varianza Var[X] = {Var:.4f}')\n",
        "print(f'Desviación estándar σ = {Desv:.4f}')"
      ],
      "execution_count": null,
      "outputs": []
    },
    {
      "cell_type": "code",
      "metadata": {
        "id": "olIBr65QGVvW"
      },
      "source": [
        "plt.figure(figsize=(12,5))\n",
        "plt.subplot(1,2,1)\n",
        "plt.bar(X, P, color='skyblue', edgecolor='black')\n",
        "plt.title('Distribución de probabilidad - Células anormales')\n",
        "plt.xlabel('Número de células (X)')\n",
        "plt.ylabel('P(X)')\n",
        "\n",
        "plt.subplot(1,2,2)\n",
        "plt.step(X, df['F(X)'], where='post', color='green')\n",
        "plt.title('Función de distribución acumulada F(X)')\n",
        "plt.xlabel('X')\n",
        "plt.ylabel('F(X)')\n",
        "plt.grid(True)\n",
        "plt.show()"
      ],
      "execution_count": null,
      "outputs": []
    }
  ],
  "metadata": {
    "kernelspec": {
      "display_name": "Python 3",
      "language": "python",
      "name": "python3"
    },
    "language_info": {
      "name": "python",
      "version": "3.x"
    },
    "colab": {
      "provenance": [],
      "include_colab_link": true
    }
  },
  "nbformat": 4,
  "nbformat_minor": 0
}