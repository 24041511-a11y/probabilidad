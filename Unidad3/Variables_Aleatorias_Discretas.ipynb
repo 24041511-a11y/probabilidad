{
  "cells": [
    {
      "cell_type": "markdown",
      "metadata": {
        "id": "view-in-github",
        "colab_type": "text"
      },
      "source": [
        "<a href=\"https://colab.research.google.com/github/24041511-a11y/probabilidad/blob/main/Unidad3/Variables_Aleatorias_Discretas.ipynb\" target=\"_parent\"><img src=\"https://colab.research.google.com/assets/colab-badge.svg\" alt=\"Open In Colab\"/></a>"
      ]
    },
    {
      "cell_type": "markdown",
      "metadata": {
        "id": "qyB9aNF4IUJG"
      },
      "source": [
        "## 🎟️ Ejercicio 2 - Tómbola"
      ]
    },
    {
      "cell_type": "code",
      "metadata": {
        "id": "iGq07qb8IUJG"
      },
      "source": [
        "X = np.array([0, 10, 20, 50])\n",
        "P = np.array([0.50, 0.30, 0.15, 0.05])"
      ],
      "execution_count": null,
      "outputs": []
    },
    {
      "cell_type": "code",
      "metadata": {
        "id": "6dg-XmAnIUJG"
      },
      "source": [
        "print('Suma de probabilidades:', np.sum(P))\n",
        "if abs(np.sum(P) - 1) < 1e-6:\n",
        "    print('✔ Las probabilidades suman 1 (válido).')\n",
        "else:\n",
        "    print('❌ Error: las probabilidades no suman 1.')"
      ],
      "execution_count": null,
      "outputs": []
    },
    {
      "cell_type": "code",
      "metadata": {
        "id": "fQ3LBFZPIUJG"
      },
      "source": [
        "df = pd.DataFrame({'Premio (X)': X, 'P(X)': P})\n",
        "E = np.sum(X * P)\n",
        "Var = np.sum((X - E)**2 * P)\n",
        "Desv = np.sqrt(Var)\n",
        "df['F(X)'] = df['P(X)'].cumsum()\n",
        "print(df)\n",
        "print(f'Valor esperado E[X] = {E:.2f} pesos')\n",
        "print(f'Varianza Var[X] = {Var:.4f}')\n",
        "print(f'Desviación estándar σ = {Desv:.4f}')"
      ],
      "execution_count": null,
      "outputs": []
    },
    {
      "cell_type": "code",
      "metadata": {
        "id": "zDEaKgXgIUJH"
      },
      "source": [
        "plt.figure(figsize=(12,5))\n",
        "plt.subplot(1,2,1)\n",
        "plt.bar(X, P, color='gold', edgecolor='black')\n",
        "plt.title('Distribución de probabilidad - Tómbola')\n",
        "plt.xlabel('Premio (pesos)')\n",
        "plt.ylabel('P(X)')\n",
        "plt.subplot(1,2,2)\n",
        "plt.step(X, df['F(X)'], where='post', color='green')\n",
        "plt.title('Función de distribución acumulada F(X)')\n",
        "plt.xlabel('X (pesos)')\n",
        "plt.ylabel('F(X)')\n",
        "plt.grid(True)\n",
        "plt.show()"
      ],
      "execution_count": null,
      "outputs": []
    },
    {
      "cell_type": "markdown",
      "metadata": {
        "id": "c7kTB-uvIUJH"
      },
      "source": [
        "-*/### Interpretación- Valor esperado: ganancia promedio esperada por boleto.\n",
        "- Si el boleto cuesta más que el valor esperado, el juego no es favorable."
      ]
    }
  ],
  "metadata": {
    "kernelspec": {
      "display_name": "Python 3",
      "language": "python",
      "name": "python3"
    },
    "language_info": {
      "name": "python",
      "version": "3.x"
    },
    "colab": {
      "provenance": [],
      "include_colab_link": true
    }
  },
  "nbformat": 4,
  "nbformat_minor": 0
}