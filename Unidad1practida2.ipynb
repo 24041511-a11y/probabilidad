{
  "nbformat": 4,
  "nbformat_minor": 0,
  "metadata": {
    "colab": {
      "provenance": [],
      "authorship_tag": "ABX9TyOKoZwwJARJrXJEQaWCt0of",
      "include_colab_link": true
    },
    "kernelspec": {
      "name": "python3",
      "display_name": "Python 3"
    },
    "language_info": {
      "name": "python"
    }
  },
  "cells": [
    {
      "cell_type": "markdown",
      "metadata": {
        "id": "view-in-github",
        "colab_type": "text"
      },
      "source": [
        "<a href=\"https://colab.research.google.com/github/24041511-a11y/probabilidad/blob/main/Unidad1practida2.ipynb\" target=\"_parent\"><img src=\"https://colab.research.google.com/assets/colab-badge.svg\" alt=\"Open In Colab\"/></a>"
      ]
    },
    {
      "cell_type": "markdown",
      "source": [],
      "metadata": {
        "id": "zY_PxtlqTSuB"
      }
    },
    {
      "cell_type": "code",
      "execution_count": 7,
      "metadata": {
        "id": "q7u3JxwINuFJ"
      },
      "outputs": [],
      "source": [
        "import random\n",
        "import matplotlib.pyplot as plt\n",
        "from statistics import *"
      ]
    },
    {
      "cell_type": "code",
      "source": [
        "fabrica1 = []\n",
        "for i in range(100):\n",
        "  numero_aleatorio= round( random.uniform(50, 100), 2)\n",
        "  fabrica1.append(numero_aleatorio)\n",
        "print(fabrica1)"
      ],
      "metadata": {
        "colab": {
          "base_uri": "https://localhost:8080/"
        },
        "id": "YKk9aOycOF7d",
        "outputId": "6c212065-7722-48b0-c191-778bce480652"
      },
      "execution_count": 23,
      "outputs": [
        {
          "output_type": "stream",
          "name": "stdout",
          "text": [
            "[83.66, 67.47, 82.44, 59.56, 86.58, 96.38, 80.39, 66.6, 76.52, 83.02, 74.8, 99.9, 80.42, 59.25, 98.76, 76.46, 56.77, 87.33, 73.47, 66.53, 63.9, 89.82, 95.15, 83.12, 65.61, 50.09, 67.62, 84.71, 74.13, 61.79, 58.25, 84.36, 64.87, 64.88, 92.25, 72.75, 76.27, 67.46, 89.61, 95.57, 72.94, 84.73, 85.2, 74.74, 60.11, 84.87, 51.7, 86.84, 54.54, 69.79, 89.27, 98.17, 72.02, 61.0, 72.9, 62.14, 80.85, 61.23, 74.02, 76.2, 93.53, 78.23, 86.68, 79.55, 50.61, 69.97, 89.98, 62.4, 61.89, 81.77, 51.2, 66.28, 98.78, 71.79, 72.23, 84.96, 97.62, 81.16, 93.33, 60.39, 90.28, 89.03, 60.87, 53.74, 70.21, 97.73, 63.1, 64.42, 73.76, 69.21, 53.02, 79.04, 56.66, 99.88, 71.93, 79.53, 90.03, 74.02, 84.25, 53.3]\n"
          ]
        }
      ]
    },
    {
      "cell_type": "code",
      "source": [
        "fabrica2 = []\n",
        "for i in range(100):\n",
        "  numero_aleatorio= round( random.uniform(50, 100), 2)\n",
        "  fabrica2.append(numero_aleatorio)\n",
        "print(fabrica1)"
      ],
      "metadata": {
        "colab": {
          "base_uri": "https://localhost:8080/"
        },
        "id": "dMO0mgDuOmxw",
        "outputId": "8ca89a3f-69f4-4c0a-9d08-b8f0defe5050"
      },
      "execution_count": 24,
      "outputs": [
        {
          "output_type": "stream",
          "name": "stdout",
          "text": [
            "[83.66, 67.47, 82.44, 59.56, 86.58, 96.38, 80.39, 66.6, 76.52, 83.02, 74.8, 99.9, 80.42, 59.25, 98.76, 76.46, 56.77, 87.33, 73.47, 66.53, 63.9, 89.82, 95.15, 83.12, 65.61, 50.09, 67.62, 84.71, 74.13, 61.79, 58.25, 84.36, 64.87, 64.88, 92.25, 72.75, 76.27, 67.46, 89.61, 95.57, 72.94, 84.73, 85.2, 74.74, 60.11, 84.87, 51.7, 86.84, 54.54, 69.79, 89.27, 98.17, 72.02, 61.0, 72.9, 62.14, 80.85, 61.23, 74.02, 76.2, 93.53, 78.23, 86.68, 79.55, 50.61, 69.97, 89.98, 62.4, 61.89, 81.77, 51.2, 66.28, 98.78, 71.79, 72.23, 84.96, 97.62, 81.16, 93.33, 60.39, 90.28, 89.03, 60.87, 53.74, 70.21, 97.73, 63.1, 64.42, 73.76, 69.21, 53.02, 79.04, 56.66, 99.88, 71.93, 79.53, 90.03, 74.02, 84.25, 53.3]\n"
          ]
        }
      ]
    },
    {
      "cell_type": "code",
      "source": [
        "maximo1 = max(fabrica1)\n",
        "minimo1 = min(fabrica1)\n",
        "rango1 = maximo1 - minimo1\n",
        "media1 = mean(fabrica1)\n",
        "mediana1 = median(fabrica1)\n",
        "moda1 = mode(fabrica1)\n",
        "\n",
        "print( \"estadistica descriptiva de la fabrica \\n\", \"media =\", media1, \"\\n Mediana =\", mediana1, \"\\n Moda\", moda1, \", maximo =\", maximo1, \"\\n minimo =\", minimo1, \"\\n Rango =\", rango1)"
      ],
      "metadata": {
        "colab": {
          "base_uri": "https://localhost:8080/"
        },
        "id": "kr6vM7hXPjW_",
        "outputId": "db5d6a77-79e7-4a84-b130-908c99e8050b"
      },
      "execution_count": 20,
      "outputs": [
        {
          "output_type": "stream",
          "name": "stdout",
          "text": [
            "estadistica descriptiva de la fabrica \n",
            " media = 99.82 \n",
            " Mediana = 99.82 \n",
            " Moda 99.82 , maximo = 99.82 \n",
            " minimo = 99.82 \n",
            " Rango = 0.0\n"
          ]
        }
      ]
    },
    {
      "cell_type": "code",
      "source": [
        "maximo2 = max(fabrica1)\n",
        "minimo2 = min(fabrica1)\n",
        "rango2 = maximo1 - minimo1\n",
        "media2 = mean(fabrica1)\n",
        "mediana2 = median(fabrica1)\n",
        "moda2 = mode(fabrica1)\n",
        "\n",
        "print( \"estadistica descriptiva de la fabrica \\n\", \"media =\", media2, \"\\n Mediana =\", mediana2, \"\\n Moda\", moda2, \", maximo =\", maximo2, \"\\n minimo =\", minimo2, \"\\n Rango =\", rango2)"
      ],
      "metadata": {
        "colab": {
          "base_uri": "https://localhost:8080/"
        },
        "collapsed": true,
        "id": "XhvR8gKSRUet",
        "outputId": "f8b78c67-154d-4039-9d26-38b714b6cb70"
      },
      "execution_count": 21,
      "outputs": [
        {
          "output_type": "stream",
          "name": "stdout",
          "text": [
            "estadistica descriptiva de la fabrica \n",
            " media = 99.82 \n",
            " Mediana = 99.82 \n",
            " Moda 99.82 , maximo = 99.82 \n",
            " minimo = 99.82 \n",
            " Rango = 0.0\n"
          ]
        }
      ]
    },
    {
      "cell_type": "code",
      "source": [
        "desviacion_estandar_fabrica1 = stdev(fabrica1)\n",
        "print(desviacion_estandar_fabrica1)"
      ],
      "metadata": {
        "colab": {
          "base_uri": "https://localhost:8080/"
        },
        "id": "OVeBVWRKRdxg",
        "outputId": "5a1adc26-c29d-42fe-f6ad-cfa633004512"
      },
      "execution_count": 25,
      "outputs": [
        {
          "output_type": "stream",
          "name": "stdout",
          "text": [
            "13.460029644105619\n"
          ]
        }
      ]
    },
    {
      "cell_type": "code",
      "source": [
        "desviacion_estandar_fabrica2 = stdev(fabrica2)\n",
        "print(desviacion_estandar_fabrica2)"
      ],
      "metadata": {
        "colab": {
          "base_uri": "https://localhost:8080/"
        },
        "id": "z1Wau_CtR2mj",
        "outputId": "730743c4-48a0-4f95-b55f-a7b10022ba74"
      },
      "execution_count": 26,
      "outputs": [
        {
          "output_type": "stream",
          "name": "stdout",
          "text": [
            "13.855354198272808\n"
          ]
        }
      ]
    },
    {
      "cell_type": "code",
      "source": [
        "plt.figure(figsize = (8,6))\n",
        "plt hist(fabrica1, bins=10, alpha=0.2, color 'b', edgecolor = \"black\")\n",
        "plt.hist(media1, color='b', linestyle='dashed', line)"
      ],
      "metadata": {
        "id": "Axq7hL4YR6Ut"
      },
      "execution_count": null,
      "outputs": []
    }
  ]
}