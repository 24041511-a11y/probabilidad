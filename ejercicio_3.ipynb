{
  "cells": [
    {
      "cell_type": "markdown",
      "metadata": {
        "id": "view-in-github",
        "colab_type": "text"
      },
      "source": [
        "<a href=\"https://colab.research.google.com/github/24041511-a11y/probabilidad/blob/main/ejercicio_3.ipynb\" target=\"_parent\"><img src=\"https://colab.research.google.com/assets/colab-badge.svg\" alt=\"Open In Colab\"/></a>"
      ]
    },
    {
      "cell_type": "markdown",
      "metadata": {
        "id": "Kb_eiFk7KAUo"
      },
      "source": [
        "## Ejercicio 3 - Ventas semanales"
      ]
    },
    {
      "cell_type": "code",
      "metadata": {
        "id": "uGe2JgYmKAUo"
      },
      "source": [
        "X = np.array([0, 1, 2, 3, 4, 5])\n",
        "P = np.array([0.05, 0.10, 0.25, 0.30, 0.20, 0.10])"
      ],
      "execution_count": null,
      "outputs": []
    },
    {
      "cell_type": "code",
      "metadata": {
        "id": "HzAIz40fKAUp"
      },
      "source": [
        "print('Suma de probabilidades:', np.sum(P))\n",
        "if abs(np.sum(P) - 1) < 1e-6:\n",
        "    print('✔ Las probabilidades suman 1 (válido).')\n",
        "else:\n",
        "    print('❌ Error: las probabilidades no suman 1.')"
      ],
      "execution_count": null,
      "outputs": []
    },
    {
      "cell_type": "code",
      "metadata": {
        "id": "rPIBo2dFKAUp"
      },
      "source": [
        "df = pd.DataFrame({'Unidades vendidas (X)': X, 'P(X)': P})\n",
        "E = np.sum(X * P)\n",
        "Var = np.sum((X - E)**2 * P)\n",
        "Desv = np.sqrt(Var)\n",
        "df['F(X)'] = df['P(X)'].cumsum()\n",
        "print(df)\n",
        "print(f'Valor esperado E[X] = {E:.2f}')\n",
        "print(f'Varianza Var[X] = {Var:.4f}')\n",
        "print(f'Desviación estándar σ = {Desv:.4f}')"
      ],
      "execution_count": null,
      "outputs": []
    },
    {
      "cell_type": "code",
      "metadata": {
        "id": "g-rFGG4KKAUp"
      },
      "source": [
        "plt.figure(figsize=(12,5))\n",
        "plt.subplot(1,2,1)\n",
        "plt.bar(X, P, color='orange', edgecolor='black')\n",
        "plt.title('Distribución de probabilidad - Ventas semanales')\n",
        "plt.xlabel('Unidades vendidas (X)')\n",
        "plt.ylabel('P(X)')\n",
        "plt.subplot(1,2,2)\n",
        "plt.step(X, df['F(X)'], where='post', color='green')\n",
        "plt.title('Función de distribución acumulada F(X)')\n",
        "plt.xlabel('X')\n",
        "plt.ylabel('F(X)')\n",
        "plt.grid(True)\n",
        "plt.show()"
      ],
      "execution_count": null,
      "outputs": []
    },
    {
      "cell_type": "markdown",
      "metadata": {
        "id": "HkvvQyaSKAUq"
      },
      "source": [
        "### Interpretación- En promedio se venden 3 unidades por semana.\n",
        "- La variabilidad es moderada.\n",
        "- La FDA indica mayor probabilidad de ventas bajas a moderadas."
      ]
    }
  ],
  "metadata": {
    "kernelspec": {
      "display_name": "Python 3",
      "language": "python",
      "name": "python3"
    },
    "language_info": {
      "name": "python",
      "version": "3.x"
    },
    "colab": {
      "provenance": [],
      "include_colab_link": true
    }
  },
  "nbformat": 4,
  "nbformat_minor": 0
}