{
  "nbformat": 4,
  "nbformat_minor": 0,
  "metadata": {
    "colab": {
      "provenance": [],
      "authorship_tag": "ABX9TyOXaDmVvfnhlZS2PFYTKqbm",
      "include_colab_link": true
    },
    "kernelspec": {
      "name": "python3",
      "display_name": "Python 3"
    },
    "language_info": {
      "name": "python"
    }
  },
  "cells": [
    {
      "cell_type": "markdown",
      "metadata": {
        "id": "view-in-github",
        "colab_type": "text"
      },
      "source": [
        "<a href=\"https://colab.research.google.com/github/24041511-a11y/probabilidad/blob/main/Unidad2/practica3.ipynb\" target=\"_parent\"><img src=\"https://colab.research.google.com/assets/colab-badge.svg\" alt=\"Open In Colab\"/></a>"
      ]
    },
    {
      "cell_type": "code",
      "execution_count": 1,
      "metadata": {
        "id": "FnwW7HrqKpUG"
      },
      "outputs": [],
      "source": [
        "\n",
        "import math"
      ]
    },
    {
      "cell_type": "code",
      "source": [
        "n = 10  # número total de asistentes\n",
        "r = 4   # número de asistentes elegidos"
      ],
      "metadata": {
        "id": "Sn7kXDIlLYgd"
      },
      "execution_count": 2,
      "outputs": []
    },
    {
      "cell_type": "code",
      "source": [
        "permutaciones = math.factorial(n) / math.factorial(n - r)\n",
        "permutaciones"
      ],
      "metadata": {
        "colab": {
          "base_uri": "https://localhost:8080/"
        },
        "id": "1Qod6h5ILbWF",
        "outputId": "613cb9f8-259d-440c-a1d0-fc26839e60bd"
      },
      "execution_count": 3,
      "outputs": [
        {
          "output_type": "execute_result",
          "data": {
            "text/plain": [
              "5040.0"
            ]
          },
          "metadata": {},
          "execution_count": 3
        }
      ]
    },
    {
      "cell_type": "code",
      "source": [
        "print(f\"El número de maneras en que se pueden elegir los {r} asistentes es: {int(permutaciones)}\")"
      ],
      "metadata": {
        "colab": {
          "base_uri": "https://localhost:8080/"
        },
        "id": "cBBZu3y7Ldzk",
        "outputId": "3d7d2d8b-ff81-408c-97b5-9ac61276c33b"
      },
      "execution_count": 4,
      "outputs": [
        {
          "output_type": "stream",
          "name": "stdout",
          "text": [
            "El número de maneras en que se pueden elegir los 4 asistentes es: 5040\n"
          ]
        }
      ]
    }
  ]
}