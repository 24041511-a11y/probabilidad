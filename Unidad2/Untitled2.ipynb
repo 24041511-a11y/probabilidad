{
  "nbformat": 4,
  "nbformat_minor": 0,
  "metadata": {
    "colab": {
      "provenance": [],
      "authorship_tag": "ABX9TyPCP1cg5WhXxHe8wIHo8j+j",
      "include_colab_link": true
    },
    "kernelspec": {
      "name": "python3",
      "display_name": "Python 3"
    },
    "language_info": {
      "name": "python"
    }
  },
  "cells": [
    {
      "cell_type": "markdown",
      "metadata": {
        "id": "view-in-github",
        "colab_type": "text"
      },
      "source": [
        "<a href=\"https://colab.research.google.com/github/24041511-a11y/probabilidad/blob/main/Unidad2/Untitled2.ipynb\" target=\"_parent\"><img src=\"https://colab.research.google.com/assets/colab-badge.svg\" alt=\"Open In Colab\"/></a>"
      ]
    },
    {
      "cell_type": "code",
      "source": [
        "import math as mt  # Para utilizar factorial\n",
        "from itertools import combinations\n",
        "from itertools import combinations_with_replacement\n",
        "import numpy as np\n",
        "\n",
        "nombres = [\"Oscar\", \"Paco\", \"Paty\", \"Laura\", \"Rubén\", \"Luis\", \"Lucy\", \"Alberto\", \"Juan\", \"Danny\"]\n",
        "n = len(nombres)\n",
        "r = 2 # ¿cómo agrupar?\n",
        "\n",
        "Cn = mt.factorial(n) / (mt.factorial(r) * mt.factorial(n-r))\n",
        "\n",
        "print(\"Existen \", Cn , \" posibles combinaciones sin repetición del total de \",\n",
        "      n , \" nombres \", \" en grupos de \", r ,\" en \", r)\n",
        "\n",
        "print(\"Aquí las combinaciones\")\n",
        "combinaciones_nombres = list(combinations(nombres, r))\n",
        "\n",
        "# Imprime Las combinaciones\n",
        "for combinacion in combinaciones_nombres:\n",
        "    print(combinacion)\n"
      ],
      "metadata": {
        "colab": {
          "base_uri": "https://localhost:8080/"
        },
        "id": "grWj7PwP23gW",
        "outputId": "8fc2f972-eff3-46d9-ec5d-38058b8a14d2"
      },
      "execution_count": 15,
      "outputs": [
        {
          "output_type": "stream",
          "name": "stdout",
          "text": [
            "Existen  45.0  posibles combinaciones sin repetición del total de  10  nombres   en grupos de  2  en  2\n",
            "Aquí las combinaciones\n",
            "('Oscar', 'Paco')\n",
            "('Oscar', 'Paty')\n",
            "('Oscar', 'Laura')\n",
            "('Oscar', 'Rubén')\n",
            "('Oscar', 'Luis')\n",
            "('Oscar', 'Lucy')\n",
            "('Oscar', 'Alberto')\n",
            "('Oscar', 'Juan')\n",
            "('Oscar', 'Danny')\n",
            "('Paco', 'Paty')\n",
            "('Paco', 'Laura')\n",
            "('Paco', 'Rubén')\n",
            "('Paco', 'Luis')\n",
            "('Paco', 'Lucy')\n",
            "('Paco', 'Alberto')\n",
            "('Paco', 'Juan')\n",
            "('Paco', 'Danny')\n",
            "('Paty', 'Laura')\n",
            "('Paty', 'Rubén')\n",
            "('Paty', 'Luis')\n",
            "('Paty', 'Lucy')\n",
            "('Paty', 'Alberto')\n",
            "('Paty', 'Juan')\n",
            "('Paty', 'Danny')\n",
            "('Laura', 'Rubén')\n",
            "('Laura', 'Luis')\n",
            "('Laura', 'Lucy')\n",
            "('Laura', 'Alberto')\n",
            "('Laura', 'Juan')\n",
            "('Laura', 'Danny')\n",
            "('Rubén', 'Luis')\n",
            "('Rubén', 'Lucy')\n",
            "('Rubén', 'Alberto')\n",
            "('Rubén', 'Juan')\n",
            "('Rubén', 'Danny')\n",
            "('Luis', 'Lucy')\n",
            "('Luis', 'Alberto')\n",
            "('Luis', 'Juan')\n",
            "('Luis', 'Danny')\n",
            "('Lucy', 'Alberto')\n",
            "('Lucy', 'Juan')\n",
            "('Lucy', 'Danny')\n",
            "('Alberto', 'Juan')\n",
            "('Alberto', 'Danny')\n",
            "('Juan', 'Danny')\n"
          ]
        }
      ]
    },
    {
      "cell_type": "code",
      "source": [
        "caracteres = [\"A\", \"B\", \"C\", \"D\", \"E\", \"F\", \"0\", \"1\", \"2\", \"3\", \"4\", \"5\"]\n",
        "n = len(caracteres)\n",
        "r = 10 # ¿cómo agrupar?\n",
        "\n",
        "Cn = mt.factorial(n) / (mt.factorial(r) * mt.factorial(n-r))\n",
        "\n",
        "print(\"Existen \", Cn , \" posibles combinaciones sin repetición del total de \", n ,\n",
        "      \" caracteres \", \" en grupos de \", r , \" en \", r)\n",
        "\n",
        "print(\"Aquí las combinaciones\")\n",
        "combinaciones_caracteres = list(combinations(caracteres, r))\n",
        "\n",
        "# Imprime las combinaciones\n",
        "for combinacion in combinaciones_caracteres:\n",
        "    print(combinacion)\n"
      ],
      "metadata": {
        "colab": {
          "base_uri": "https://localhost:8080/"
        },
        "id": "TGHD0uDk3EOn",
        "outputId": "1faf67eb-597c-42ec-9d38-6f9bf4531623"
      },
      "execution_count": 16,
      "outputs": [
        {
          "output_type": "stream",
          "name": "stdout",
          "text": [
            "Existen  66.0  posibles combinaciones sin repetición del total de  12  caracteres   en grupos de  10  en  10\n",
            "Aquí las combinaciones\n",
            "('A', 'B', 'C', 'D', 'E', 'F', '0', '1', '2', '3')\n",
            "('A', 'B', 'C', 'D', 'E', 'F', '0', '1', '2', '4')\n",
            "('A', 'B', 'C', 'D', 'E', 'F', '0', '1', '2', '5')\n",
            "('A', 'B', 'C', 'D', 'E', 'F', '0', '1', '3', '4')\n",
            "('A', 'B', 'C', 'D', 'E', 'F', '0', '1', '3', '5')\n",
            "('A', 'B', 'C', 'D', 'E', 'F', '0', '1', '4', '5')\n",
            "('A', 'B', 'C', 'D', 'E', 'F', '0', '2', '3', '4')\n",
            "('A', 'B', 'C', 'D', 'E', 'F', '0', '2', '3', '5')\n",
            "('A', 'B', 'C', 'D', 'E', 'F', '0', '2', '4', '5')\n",
            "('A', 'B', 'C', 'D', 'E', 'F', '0', '3', '4', '5')\n",
            "('A', 'B', 'C', 'D', 'E', 'F', '1', '2', '3', '4')\n",
            "('A', 'B', 'C', 'D', 'E', 'F', '1', '2', '3', '5')\n",
            "('A', 'B', 'C', 'D', 'E', 'F', '1', '2', '4', '5')\n",
            "('A', 'B', 'C', 'D', 'E', 'F', '1', '3', '4', '5')\n",
            "('A', 'B', 'C', 'D', 'E', 'F', '2', '3', '4', '5')\n",
            "('A', 'B', 'C', 'D', 'E', '0', '1', '2', '3', '4')\n",
            "('A', 'B', 'C', 'D', 'E', '0', '1', '2', '3', '5')\n",
            "('A', 'B', 'C', 'D', 'E', '0', '1', '2', '4', '5')\n",
            "('A', 'B', 'C', 'D', 'E', '0', '1', '3', '4', '5')\n",
            "('A', 'B', 'C', 'D', 'E', '0', '2', '3', '4', '5')\n",
            "('A', 'B', 'C', 'D', 'E', '1', '2', '3', '4', '5')\n",
            "('A', 'B', 'C', 'D', 'F', '0', '1', '2', '3', '4')\n",
            "('A', 'B', 'C', 'D', 'F', '0', '1', '2', '3', '5')\n",
            "('A', 'B', 'C', 'D', 'F', '0', '1', '2', '4', '5')\n",
            "('A', 'B', 'C', 'D', 'F', '0', '1', '3', '4', '5')\n",
            "('A', 'B', 'C', 'D', 'F', '0', '2', '3', '4', '5')\n",
            "('A', 'B', 'C', 'D', 'F', '1', '2', '3', '4', '5')\n",
            "('A', 'B', 'C', 'D', '0', '1', '2', '3', '4', '5')\n",
            "('A', 'B', 'C', 'E', 'F', '0', '1', '2', '3', '4')\n",
            "('A', 'B', 'C', 'E', 'F', '0', '1', '2', '3', '5')\n",
            "('A', 'B', 'C', 'E', 'F', '0', '1', '2', '4', '5')\n",
            "('A', 'B', 'C', 'E', 'F', '0', '1', '3', '4', '5')\n",
            "('A', 'B', 'C', 'E', 'F', '0', '2', '3', '4', '5')\n",
            "('A', 'B', 'C', 'E', 'F', '1', '2', '3', '4', '5')\n",
            "('A', 'B', 'C', 'E', '0', '1', '2', '3', '4', '5')\n",
            "('A', 'B', 'C', 'F', '0', '1', '2', '3', '4', '5')\n",
            "('A', 'B', 'D', 'E', 'F', '0', '1', '2', '3', '4')\n",
            "('A', 'B', 'D', 'E', 'F', '0', '1', '2', '3', '5')\n",
            "('A', 'B', 'D', 'E', 'F', '0', '1', '2', '4', '5')\n",
            "('A', 'B', 'D', 'E', 'F', '0', '1', '3', '4', '5')\n",
            "('A', 'B', 'D', 'E', 'F', '0', '2', '3', '4', '5')\n",
            "('A', 'B', 'D', 'E', 'F', '1', '2', '3', '4', '5')\n",
            "('A', 'B', 'D', 'E', '0', '1', '2', '3', '4', '5')\n",
            "('A', 'B', 'D', 'F', '0', '1', '2', '3', '4', '5')\n",
            "('A', 'B', 'E', 'F', '0', '1', '2', '3', '4', '5')\n",
            "('A', 'C', 'D', 'E', 'F', '0', '1', '2', '3', '4')\n",
            "('A', 'C', 'D', 'E', 'F', '0', '1', '2', '3', '5')\n",
            "('A', 'C', 'D', 'E', 'F', '0', '1', '2', '4', '5')\n",
            "('A', 'C', 'D', 'E', 'F', '0', '1', '3', '4', '5')\n",
            "('A', 'C', 'D', 'E', 'F', '0', '2', '3', '4', '5')\n",
            "('A', 'C', 'D', 'E', 'F', '1', '2', '3', '4', '5')\n",
            "('A', 'C', 'D', 'E', '0', '1', '2', '3', '4', '5')\n",
            "('A', 'C', 'D', 'F', '0', '1', '2', '3', '4', '5')\n",
            "('A', 'C', 'E', 'F', '0', '1', '2', '3', '4', '5')\n",
            "('A', 'D', 'E', 'F', '0', '1', '2', '3', '4', '5')\n",
            "('B', 'C', 'D', 'E', 'F', '0', '1', '2', '3', '4')\n",
            "('B', 'C', 'D', 'E', 'F', '0', '1', '2', '3', '5')\n",
            "('B', 'C', 'D', 'E', 'F', '0', '1', '2', '4', '5')\n",
            "('B', 'C', 'D', 'E', 'F', '0', '1', '3', '4', '5')\n",
            "('B', 'C', 'D', 'E', 'F', '0', '2', '3', '4', '5')\n",
            "('B', 'C', 'D', 'E', 'F', '1', '2', '3', '4', '5')\n",
            "('B', 'C', 'D', 'E', '0', '1', '2', '3', '4', '5')\n",
            "('B', 'C', 'D', 'F', '0', '1', '2', '3', '4', '5')\n",
            "('B', 'C', 'E', 'F', '0', '1', '2', '3', '4', '5')\n",
            "('B', 'D', 'E', 'F', '0', '1', '2', '3', '4', '5')\n",
            "('C', 'D', 'E', 'F', '0', '1', '2', '3', '4', '5')\n"
          ]
        }
      ]
    },
    {
      "cell_type": "code",
      "source": [
        "import math as mt  # Para utilizar factorial\n",
        "from itertools import combinations_with_replacement\n",
        "\n",
        "dado = [1, 2, 3, 4, 5, 6]\n",
        "n = len(dado)\n",
        "r = 2 # ¿cómo agrupar?, de dos en dos porque hay dos dados\n",
        "\n",
        "CnR = mt.factorial(n+r-1) / (mt.factorial(r) * mt.factorial((n+r-1)-r))\n",
        "\n",
        "print(f\"Existen {int(CnR)} posibles combinaciones con repetición del total de {n} caracteres, en grupos de {r} en {r}\")\n",
        "print(\"Aquí las combinaciones con repetición de dos dados\")\n",
        "\n",
        "# Definir el conjunto de elementos\n",
        "elementos = [1, 2, 3, 4, 5, 6]\n",
        "\n",
        "# Número de elementos a elegir en cada combinación\n",
        "r = 2\n",
        "\n",
        "# Calcular las combinaciones con repetición\n",
        "combinaciones_dados = list(combinations_with_replacement(dado, r))\n",
        "\n",
        "# Imprimir las combinaciones\n",
        "for combinacion in combinaciones_dados:\n",
        "    print(combinacion)"
      ],
      "metadata": {
        "colab": {
          "base_uri": "https://localhost:8080/"
        },
        "id": "6vU8muFC3LMC",
        "outputId": "a3f47477-cf08-4beb-d175-5b85bc1bd7b6"
      },
      "execution_count": 17,
      "outputs": [
        {
          "output_type": "stream",
          "name": "stdout",
          "text": [
            "Existen 21 posibles combinaciones con repetición del total de 6 caracteres, en grupos de 2 en 2\n",
            "Aquí las combinaciones con repetición de dos dados\n",
            "(1, 1)\n",
            "(1, 2)\n",
            "(1, 3)\n",
            "(1, 4)\n",
            "(1, 5)\n",
            "(1, 6)\n",
            "(2, 2)\n",
            "(2, 3)\n",
            "(2, 4)\n",
            "(2, 5)\n",
            "(2, 6)\n",
            "(3, 3)\n",
            "(3, 4)\n",
            "(3, 5)\n",
            "(3, 6)\n",
            "(4, 4)\n",
            "(4, 5)\n",
            "(4, 6)\n",
            "(5, 5)\n",
            "(5, 6)\n",
            "(6, 6)\n"
          ]
        }
      ]
    }
  ]
}